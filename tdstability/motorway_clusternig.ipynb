{
 "cells": [
  {
   "cell_type": "code",
   "execution_count": null,
   "id": "afe8b40a",
   "metadata": {},
   "outputs": [],
   "source": [
    "%%capture\n",
    "import pandas as pd\n",
    "# import modin.pandas as pd\n",
    "import numpy as np\n",
    "\n",
    "import math\n",
    "import seaborn as sns\n",
    "import matplotlib.pyplot as plt\n",
    "import vaex # https://vaex.io/docs/index.html\n",
    "import pathlib\n",
    "from pathlib import *\n",
    "import os\n",
    "import pickle\n",
    "# import cufflinks as cf\n",
    "# import chart_studio.plotly as py\n",
    "import seaborn as sns\n",
    "import plotly.express as px\n",
    "%matplotlib inline\n",
    "from plotly.offline import download_plotlyjs, init_notebook_mode,plot,iplot\n",
    "\n",
    "init_notebook_mode(connected=True)\n",
    "import dask.dataframe as dd\n",
    "from dask.diagnostics import ProgressBar"
   ]
  },
  {
   "cell_type": "code",
   "execution_count": null,
   "id": "bf2ec8ae",
   "metadata": {},
   "outputs": [],
   "source": [
    "##TODO -> Create functions for repetitive tasks\n",
    "\n",
    "# ,skiprows=range(3, 260000000)\n",
    "# Input the csv\n",
    "# Extracting a subset of 1000000 rows by default\n",
    "def load_data(dir_name,base_filename):\n",
    "    complete_path=os.path.join(dir_name, base_filename + \".\" + \"csv\")\n",
    "    df=pd.read_csv(complete_path)\n",
    "#     df = pd.concat((chunk for chunk in pd.read_csv(complete_path,sep=';',nrows=5000000,encoding= 'unicode_escape',engine='c',infer_datetime_format=True,chunksize=1000000,low_memory=False,usecols=['Numberplate','Latitude',\n",
    "    #                                                                                                                           'Longitude','Meters_travelled','Time_elapsed','Point_speed','Number_of_lanes',\n",
    "    #                                                                                                                           'Road_type','Road_class','Speed_restriction','TNO_Time-stamp'])))\n",
    "    \n",
    "#     df = pd.concat((chunk for chunk in pd.read_csv(complete_path,sep=';',nrows=20000000,encoding= 'unicode_escape',engine='c',infer_datetime_format=True,chunksize=1000000,low_memory=False)))\n",
    "    return df\n",
    "\n",
    "# Dropping the first and last row of csv (\"------\")\n",
    "def drop_first_row(df):\n",
    "    df=df.iloc[1:]\n",
    "    df=df[:-1]\n",
    "    return df\n",
    "\n",
    "def resetIndex(df):\n",
    "    return df.reset_index()\n",
    "\n",
    "\n",
    "##TODO -> Rewrite this function\n",
    "\n",
    "def cast_to_correct_dtype(df):\n",
    "    \n",
    "    if 'Id' in df.columns:\n",
    "        df['Id'] = df['Id'].astype('int')\n",
    "        \n",
    "    if 'AOS_position_Id' in df.columns:\n",
    "        df['AOS_position_Id'] = df['AOS_position_Id'].astype('int')\n",
    "    \n",
    "    if 'Acceleration_x' in df.columns:\n",
    "        df['Acceleration_x'] = df['Acceleration_x'].astype('float')\n",
    "        \n",
    "    if 'Acceleration_y' in df.columns:\n",
    "        df['Acceleration_y'] = df['Acceleration_y'].astype('float')\n",
    "        \n",
    "    if 'TNO_Valid' in df.columns:\n",
    "        df['TNO_Valid'] = df['TNO_Valid'].astype('int')\n",
    "    \n",
    "    if 'Latitude' in df.columns:\n",
    "        df['Latitude'] = df['Latitude'].astype('float')\n",
    "        \n",
    "    if 'Longitude' in df.columns:\n",
    "        df['Longitude'] = df['Longitude'].astype('float')\n",
    "        \n",
    "    if 'Event/action_speed' in df.columns:\n",
    "        df['Event/action_speed'] = df['Event/action_speed'].astype('int')\n",
    "        \n",
    "    if 'Event/action_type' in df.columns:\n",
    "        df['Event/action_type'] = df['Event/action_type'].astype('int')    \n",
    "        \n",
    "    if 'Number_of_lanes' in df.columns:\n",
    "        df['Number_of_lanes'] = df['Number_of_lanes'].astype('int')\n",
    "        \n",
    "    if 'Road_class' in df.columns:\n",
    "        df['Road_class'] = df['Road_class'].astype('int')\n",
    "        \n",
    "    if 'Road_type' in df.columns:\n",
    "        df['Road_type'] = df['Road_type'].astype('int')\n",
    "        \n",
    "    if 'Crash_position_Id' in df.columns:\n",
    "        df['Crash_position_Id']=df['Crash_position_Id'].astype('int')\n",
    "        \n",
    "    if 'Crash_position_Id' in df.columns:\n",
    "        df['Crash_position_Id'] = df['Crash_position_Id'].astype('int')\n",
    "        \n",
    "    if 'Point_speed' in df.columns:\n",
    "        df['Point_speed'] = df['Point_speed'].astype('float')\n",
    "        \n",
    "    if 'Average_speed_fpp' in df.columns:\n",
    "        df['Average_speed_fpp'] = df['Average_speed_fpp'].astype('float')  \n",
    "        \n",
    "    if 'Average_Speed' in df.columns:\n",
    "        df['Average_Speed'] = df['Average_Speed'].astype('float')        \n",
    "\n",
    "    if 'Maximum_speed' in df.columns:\n",
    "        df['Maximum_speed'] = df['Maximum_speed'].astype('float')     \n",
    "        \n",
    "    if 'Meters_travelled' in df.columns:\n",
    "        df['Meters_travelled'] = df['Meters_travelled'].astype('int')  \n",
    "\n",
    "    if 'Road_form' in df.columns:\n",
    "        df['Road_form'] = df['Road_form'].astype('int') \n",
    "        \n",
    "    if 'Speed_restriction' in df.columns:\n",
    "        df['Speed_restriction'] = df['Speed_restriction'].astype('int') \n",
    "        \n",
    "    if 'Crash_speed' in df.columns:\n",
    "        df['Crash_speed'] = df['Crash_speed'].astype('int')\n",
    "        \n",
    "    if 'Maximum_acceleration' in df.columns:\n",
    "        df['Maximum_acceleration'] = df['Maximum_acceleration'].astype('float')\n",
    "        \n",
    "    if 'Numberplate' in df.columns:\n",
    "        df['Numberplate']=df['Numberplate'].astype('str')\n",
    "        \n",
    "\n",
    "    return df\n",
    "\n",
    "            \n",
    "\n",
    "## Handling date time related fields\n",
    "\n",
    "def cast_date_time(df):\n",
    "    if 'AOS_event/action_time' in df.columns:\n",
    "        df['AOS_event/action_time']=pd.datetime(df['AOS_event/action_time'],errors='coerce')\n",
    "        df['AOS_event/action_time_hour']=df['AOS_event/action_time'].dt.hour\n",
    "    \n",
    "    if 'TNO_Trip-start' in df.columns:\n",
    "        df['TNO_Trip-start'] = pd.to_datetime(df['TNO_Trip-start'],errors='coerce')\n",
    "        df['TNO_Trip-start_hour'] = df['TNO_Trip-start'].dt.hour\n",
    "        \n",
    "    if 'TNO_Trip-end' in df.columns:\n",
    "        df['TNO_Trip-end'] = pd.to_datetime(df['TNO_Trip-end'],errors='coerce')\n",
    "        \n",
    "    if 'Position_time' in df.columns:\n",
    "        df['Position_time'] = pd.to_datetime(df['Position_time'],errors='coerce')\n",
    "\n",
    "    if 'TNO_Time-stamp' in df.columns:\n",
    "        df['TNO_Time-stamp'] = pd.to_datetime(df['TNO_Time-stamp'],errors='coerce')\n",
    "        df['TNO_Time-stamp_hour'] = df['TNO_Time-stamp'].dt.hour\n",
    "        \n",
    "    return df\n",
    "\n",
    "## Converting Time Stamps to datetime\n",
    "\n",
    "def date_and_time_columns(df):\n",
    "    if 'AOS_event/action_time' in df.columns:\n",
    "        df['AOS Trip Date']=df['AOS_event/action_time'].dt.date\n",
    "        df['AOS Event Time']=df['AOS_event/action_time'].dt.time\n",
    "        df['AOS Trip Hour']=df['AOS_event/action_time'].dt.hour\n",
    "    \n",
    "    \n",
    "    if 'TNO_Time-stamp' in df.columns:\n",
    "        df['TNO Trip Date'] = df['TNO_Time-stamp'].dt.date\n",
    "        df['TNO Trip Time'] = df['TNO_Time-stamp'].dt.time\n",
    "        df['TNO Trip Hour']=df['TNO_Time-stamp'].dt.hour\n",
    "        # df['TNO Trip Hour'] = df['TNO Trip Time'].dt.hour\n",
    "    return df\n",
    "\n",
    "def Time_of_the_day(x):\n",
    "    if (x > 4) and (x <= 8):\n",
    "        return 'Early Morning'\n",
    "    elif (x > 8) and (x < 12 ):\n",
    "        return 'Morning'\n",
    "    elif (x >= 12) and (x <= 16):\n",
    "        return'Noon'\n",
    "    elif (x > 16) and (x <= 20) :\n",
    "        return 'Evening'\n",
    "    elif (x > 20) and (x <= 24):\n",
    "        return'Night'\n",
    "    elif (x <= 4):\n",
    "        return'Late Night'\n",
    "    \n",
    "    \n",
    "def rename_some_stuff(df):\n",
    "    if 'Event/action_type' in df.columns:\n",
    "        df[\"Event type Rename\"]=df[\"Event/action_type\"].replace({0: 'Headway Warning = OFF', 1: 'Headway Warning (long)', 2: 'Headway Warning (medium)'\n",
    "                                                                                 ,3: 'Headway Warning (short)',10:'Lane Departure Warning = OFF',11:'Left Lane Departure Warning = ON'\n",
    "                                                                                 ,12:'Right Lane Departure Warning = ON',13:'Left and Right Lane Departure Warning = ON'\n",
    "                                                                                 ,20:' Indicators = OFF',21:'Left Indicator = ON',22:'Right Indicator = ON',23:'Left and Right Indicator = ON'\n",
    "                                                                                 ,40:'Brakes = OFF',41:'Brakes = ON'})\n",
    "        \n",
    "    if 'Road_type' in df.columns:\n",
    "        df[\"Road_type_Rename\"]=df[\"Road_type\"].replace({0: \"Urban\", 1: \"Motorway\",2:\"Extra Urban\",3:\"Unavailable\"})\n",
    "        \n",
    "    return df\n",
    "\n",
    "def detect_overspeeding_count(df):\n",
    "    # create a list of our conditions\n",
    "#     if 'Event/action_speed' and 'Speed_restriction' in df.columns:\n",
    "#         conditions = [(df['Event/action_speed']> df['Speed_restriction'])]\n",
    "#         # # create a list of the values we want to assign for each condition\n",
    "#         values = [1]\n",
    "#         # create a new column and use np.select to assign values to it using our lists as arguments\n",
    "#         df['Overspeeding_event'] = np.select(conditions, values)\n",
    "        \n",
    "    # return df\n",
    "\n",
    "    if 'Point_speed' and 'Speed_restriction' in df.columns:\n",
    "        conditions = [(df['Point_speed']> df['Speed_restriction'])]\n",
    "        # # create a list of the values we want to assign for each condition\n",
    "        values = [1]\n",
    "        # create a new column and use np.select to assign values to it using our lists as arguments\n",
    "        df['Overspeeding_event'] = np.select(conditions, values)\n",
    "        \n",
    "    return df\n",
    "\n",
    "def some_processing(df):\n",
    "    if 'Meters_travelled' in df.columns:\n",
    "        df['KmTravelled']=df['Meters_travelled']/1000\n",
    "    return df"
   ]
  },
  {
   "cell_type": "markdown",
   "id": "859db5b0",
   "metadata": {},
   "source": [
    "TRIP DETAIL"
   ]
  },
  {
   "cell_type": "code",
   "execution_count": null,
   "id": "145ab8f9",
   "metadata": {},
   "outputs": [],
   "source": [
    "# import glob\n",
    "# import os\n",
    "\n",
    "# path=r'D:\\AOS FOT\\Octo\\pickle_files\\utrecht_leek\\trips_road_1'\n",
    "# all_files = glob.glob(os.path.join(path, \"*.pkl\"))\n",
    "\n",
    "# df_motorway_td = pd.concat((pd.read_pickle(f) for f in all_files), ignore_index=True)"
   ]
  },
  {
   "cell_type": "code",
   "execution_count": null,
   "id": "f6458fef",
   "metadata": {},
   "outputs": [],
   "source": [
    "df_motorway_td=pd.read_csv(r'D:\\AOS FOT\\Octo\\CSV Export\\Individual Clustering Motorway\\Utrecht\\df_complete_td_within_netherlands_motorways_utrecht_leek.csv',encoding= 'unicode_escape')\n",
    "df_motorway_td"
   ]
  },
  {
   "cell_type": "code",
   "execution_count": null,
   "id": "48b66281",
   "metadata": {},
   "outputs": [],
   "source": [
    "groupby_df_motorway_td = df_motorway_td.groupby(\"platedate_copy\")[\"Meters_travelled\"].sum()\n",
    "# groupby_df_motorway_td"
   ]
  },
  {
   "cell_type": "code",
   "execution_count": null,
   "id": "0817cb02",
   "metadata": {},
   "outputs": [],
   "source": [
    "#grouping df based on platedate_copy \n",
    "# (Note:Here you need to manually check the range of distance that's common and add that to next step so that we can extract the same road)\n",
    "\n",
    "df_motorway_td_grouped=df_motorway_td.groupby('platedate_copy').sum() \n",
    "df_motorway_td_grouped\n",
    "\n",
    "# rslt_df = df_motorway_td_grouped.loc[(df_motorway_td_grouped['KmTravelled'] >= 70) & (df_motorway_td_grouped['KmTravelled'] <=90)] #Road 1 - (Utrecht-Eindhoven)\n",
    "\n",
    "\n",
    "rslt_df = df_motorway_td_grouped.loc[(df_motorway_td_grouped['KmTravelled'] >= 150) & (df_motorway_td_grouped['KmTravelled'] <=180)] #Road 1 - (Utrecht to Leek - Highway A27-A6-A7)\n",
    "# rslt_df = df_utrecht_leek_filtered_grouped.loc[(df_utrecht_leek_filtered_grouped['KmTravelled'] >= 180) & (df_utrecht_leek_filtered_grouped['KmTravelled'] <=220)] #Road 2 - (Utrecht to Leek - Highway A28)\n",
    "\n",
    "rslt_df=rslt_df.reset_index()\n",
    "platedate_copy_same_road=rslt_df['platedate_copy']\n",
    "platedate_copy_same_road # List of platedates that pass through the same road"
   ]
  },
  {
   "cell_type": "code",
   "execution_count": null,
   "id": "f88c3016",
   "metadata": {},
   "outputs": [],
   "source": [
    "df = df_motorway_td[df_motorway_td['platedate_copy'].isin(platedate_copy_same_road)] # Extract complete df\n",
    "df=df.loc[:,~df.columns.str.startswith('B')]# dropping extra columns that start with N (platedate names)\n",
    "df=df.loc[:,~df.columns.str.startswith('N')]# dropping extra columns that start with N (platedate names)"
   ]
  },
  {
   "cell_type": "code",
   "execution_count": null,
   "id": "2a316531",
   "metadata": {},
   "outputs": [],
   "source": [
    "df"
   ]
  },
  {
   "cell_type": "code",
   "execution_count": null,
   "id": "9b533708",
   "metadata": {},
   "outputs": [],
   "source": [
    "df = df.drop(df[df['platedate_copy']=='BTDS932009-05-14'].index)\n",
    "df = df.drop(df[df['platedate_copy']=='BTFT452009-05-18'].index)\n",
    "df = df.drop(df[df['platedate_copy']=='BTHN952009-01-13'].index)\n",
    "df = df.drop(df[df['platedate_copy']=='BVFP922008-11-22'].index)\n",
    "df = df.drop(df[df['platedate_copy']=='BTFX652008-10-10'].index)\n",
    "df = df.drop(df[df['platedate_copy']=='BVFP912008-10-12'].index)\n",
    "df = df.drop(df[df['platedate_copy']=='BTFX642008-10-01'].index)\n",
    "df = df.drop(df[df['platedate_copy']=='BTDB402008-11-08'].index)\n",
    "df = df.drop(df[df['platedate_copy']=='BTDB402008-11-06'].index)\n",
    "# df = df.drop(df[df['platedate_copy']=='BTFX642008-10-01'].index)\n",
    "\n",
    "fig = px.scatter_mapbox(df,lat=\"Latitude\",lon=\"Longitude\",title=\"Utrecht-Leek  111 Trips (71 Trucks)\",color=\"platedate_copy\")\n",
    "\n",
    "fig.update_layout(mapbox_style=\"open-street-map\",margin={\"r\":0.75,\"t\":25,\"l\":0,\"b\":0},title_x=0.5)\n",
    "# fig.update_layout()\n",
    "fig.show()"
   ]
  },
  {
   "cell_type": "code",
   "execution_count": null,
   "id": "6eb61ee7",
   "metadata": {},
   "outputs": [],
   "source": [
    "df['Numberplate'] = df['platedate_copy'].str[0:6]"
   ]
  },
  {
   "cell_type": "code",
   "execution_count": null,
   "id": "71b86276",
   "metadata": {},
   "outputs": [],
   "source": [
    "len(df['Numberplate'].unique())"
   ]
  },
  {
   "cell_type": "code",
   "execution_count": null,
   "id": "90997630",
   "metadata": {},
   "outputs": [],
   "source": [
    "df=df_motorway_td"
   ]
  },
  {
   "cell_type": "code",
   "execution_count": null,
   "id": "937c4485",
   "metadata": {},
   "outputs": [],
   "source": [
    "def pre_processing(df):\n",
    "    df = df.drop(df[df['Average_speed_fpp']==0].index) # Dropping rows where driver is still \n",
    "    df['Numberplate_copy'] = df['Numberplate'] # creating copy of numberplate\n",
    "#     df['platedate_copy'] = df['platedate'] # creating copy of platedate\n",
    "    return df\n",
    "\n",
    "def creating_grps(df):\n",
    "    \"\"\"This function will split df into two groups to calculate mean speed \n",
    "    and total distance travelled by each numberplate in Urban areas within that city\"\"\"\n",
    "    \n",
    "    df_groupby_mean = df.groupby(['Numberplate']).mean()\n",
    "    df_groupby_mean.reset_index(inplace=True)\n",
    "    \n",
    "    df_groupby_sum = df.groupby(['Numberplate']).sum()\n",
    "    df_groupby_sum.reset_index(inplace=True)\n",
    "    \n",
    "    return df_groupby_mean,df_groupby_sum\n",
    "\n",
    "def dropping_columns_mean(df):\n",
    "    df=df.drop(['Unnamed: 0', 'Id', 'Header_Id',\n",
    "             'Trip_Summary_Id','Status',\n",
    "             'Meters_travelled', 'Time_elapsed','Average_speed_fpp',\n",
    "             'Point_AOS_headway','Road_type', 'Road_class',\n",
    "             'Road_form', 'Speed_restriction', 'TNO_Valid', 'TNO_Day',\n",
    "             'TNO_Area_Valid', 'TNO_Time_elapsed', 'TNO_Average_speed','Overspeeding_event',\n",
    "             'KmTravelled'], axis = 1)\n",
    "    return df \n",
    "\n",
    "def dropping_columns_sum(df):\n",
    "    df=df.drop(['Unnamed: 0', 'Id', 'Header_Id',\n",
    "             'Trip_Summary_Id', 'Latitude', 'Longitude', 'Status',\n",
    "             'Meters_travelled', 'Time_elapsed', 'Average_speed_fpp',\n",
    "             'Point_AOS_headway', 'Road_type', 'Road_class',\n",
    "             'Road_form', 'Speed_restriction', 'TNO_Valid', 'TNO_Day',\n",
    "             'TNO_Area_Valid', 'TNO_Time_elapsed', 'TNO_Average_speed','Point_speed'], axis = 1)\n",
    "    return df"
   ]
  },
  {
   "cell_type": "code",
   "execution_count": null,
   "id": "a0ae7348",
   "metadata": {},
   "outputs": [],
   "source": [
    "df = df.loc[df['Road_type'] == 1]\n",
    "df = (df.pipe(cast_to_correct_dtype).pipe(rename_some_stuff).pipe(detect_overspeeding_count).pipe(some_processing))\n",
    "df=df.loc[:,~df.columns.str.startswith('W')]# dropping extra columns that start with N (platedate names)\n",
    "\n",
    "# df_intra_city_trip_detail"
   ]
  },
  {
   "cell_type": "code",
   "execution_count": null,
   "id": "5cbcb330",
   "metadata": {},
   "outputs": [],
   "source": [
    "df_groupby_mean,df_groupby_sum = (df.pipe(pre_processing).pipe(creating_grps))\n",
    "df_groupby_sum=dropping_columns_sum(df_groupby_sum)\n",
    "df_groupby_mean=dropping_columns_mean(df_groupby_mean)\n",
    "\n",
    "\n",
    "def merge(df_groupby_sum,df_groupby_mean):\n",
    "    df = pd.merge(df_groupby_mean,df_groupby_sum, on='Numberplate', how='outer') #here Numberplate is common column\n",
    "    df=df.rename(columns={'Point_speed': 'Point_speed_mean_intra_city',\n",
    "                   'Overspeeding_event': 'Overspeeding_event_sum_intra_city',\n",
    "                   'KmTravelled': 'KmTravelled_sum_intra_city'})\n",
    "    df['norm_overspeeding']=df['Overspeeding_event_sum_intra_city']/df['KmTravelled_sum_intra_city']\n",
    "    return df\n",
    "    \n",
    "df_motorway_grouped_trip_detail=merge(df_groupby_sum,df_groupby_mean)\n",
    "df_motorway_grouped_trip_detail"
   ]
  },
  {
   "cell_type": "code",
   "execution_count": null,
   "id": "3b14f52f",
   "metadata": {},
   "outputs": [],
   "source": [
    "# df_motorway_grouped_trip_detail=df_motorway_grouped_trip_detail.loc[:,~df_motorway_grouped_trip_detail.columns.str.startswith('B')]# dropping extra columns that start with N (platedate names)\n",
    "# df_motorway_grouped_trip_detail=df_motorway_grouped_trip_detail.loc[:,~df_motorway_grouped_trip_detail.columns.str.startswith('N')]# dropping extra columns that start with N (platedate names)\n",
    "# # df_motorway_grouped_trip_detail.drop(['Number_of_lanes_x', 'Number_of_lanes_y'], axis = 1, inplace = True) \n",
    "# df_motorway_grouped_trip_detail"
   ]
  },
  {
   "cell_type": "markdown",
   "id": "7b217687",
   "metadata": {},
   "source": [
    "AOS Summary"
   ]
  },
  {
   "cell_type": "code",
   "execution_count": null,
   "id": "dcd0b329",
   "metadata": {},
   "outputs": [],
   "source": [
    "# dir_name=r\"D:\\AOS FOT\\Octo\\pickle_files\\utrecht_leek\\trips_road_1\\AOS_Summary\"\n",
    "\n",
    "# path=os.path.join(dir_name)\n",
    "\n",
    "# all_files = glob.glob(os.path.join(path, \"*.pkl\"))\n",
    "\n",
    "# df_motorway_aos = pd.concat((pd.read_pickle(f) for f in all_files), ignore_index=True)\n",
    "# df_motorway_aos=df_motorway_aos[df_motorway_aos['Road_type_Rename']=='Motorway']\n",
    "# df_motorway_aos=df_motorway_aos.loc[:,~df_motorway_aos.columns.str.startswith('W')]# dropping extra columns that start with N (platedate names)"
   ]
  },
  {
   "cell_type": "code",
   "execution_count": null,
   "id": "8392f72c",
   "metadata": {},
   "outputs": [],
   "source": [
    "df_motorway_aos=pd.read_csv(r\"D:\\AOS FOT\\Octo\\CSV Export\\Individual Clustering Motorway\\Utrecht\\df_complete_aos_within_netherlands_motorways_utrecht_leek.csv\")\n",
    "df_motorway_aos=df_motorway_aos[df_motorway_aos['Road_type']==1]"
   ]
  },
  {
   "cell_type": "code",
   "execution_count": null,
   "id": "a1e3c951",
   "metadata": {},
   "outputs": [],
   "source": [
    "df_motorway_aos"
   ]
  },
  {
   "cell_type": "code",
   "execution_count": null,
   "id": "a1c11332",
   "metadata": {},
   "outputs": [],
   "source": [
    "city_name=\"utrecht_leek_complete\""
   ]
  },
  {
   "cell_type": "code",
   "execution_count": null,
   "id": "6c22b19e",
   "metadata": {},
   "outputs": [],
   "source": [
    "df_motorway_aos['Numberplate'] = df_motorway_aos['platedate'].str[0:6]"
   ]
  },
  {
   "cell_type": "code",
   "execution_count": null,
   "id": "bc30e214",
   "metadata": {},
   "outputs": [],
   "source": [
    "%%capture\n",
    "def total_aos_event_count(df):\n",
    "    df=df.groupby(['Numberplate','Event type Rename']).size().unstack(fill_value=0)\n",
    "    df.reset_index(inplace=True)\n",
    "    return df\n",
    "\n",
    "def merge_aos_events_trip_detail(total_aos_event_count,df_city_grouped_trip_detail):\n",
    "    df = pd.merge(df_city_grouped_trip_detail, total_aos_event_count, on='Numberplate', how='outer') #here id is common column\n",
    "    df = df.dropna(axis = 0, how = 'any')\n",
    "    return df\n",
    "\n",
    "def normalizing_events_count(df):\n",
    "    df['norm_Indicators = OFF']=df[' Indicators = OFF']/df['KmTravelled_sum_intra_city']\n",
    "    df['norm_brakes = OFF']=df['Brakes = OFF']/df['KmTravelled_sum_intra_city']\n",
    "    df['norm_brakes = ON']=df['Brakes = ON']/df['KmTravelled_sum_intra_city']\n",
    "    df['norm_headway_warning(long)']=df['Headway Warning (long)']/df['KmTravelled_sum_intra_city']\n",
    "    df['norm_headway_warning(medium)']=df['Headway Warning (medium)']/df['KmTravelled_sum_intra_city']\n",
    "    df['norm_headway_warning(short)']=df['Headway Warning (short)']/df['KmTravelled_sum_intra_city']\n",
    "    df['norm_Headway Warning = OFF']=df['Headway Warning = OFF']/df['KmTravelled_sum_intra_city']\n",
    "    df['norm_Lane Departure Warning = OFF']=df['Lane Departure Warning = OFF']/df['KmTravelled_sum_intra_city']\n",
    "    df['norm_Left Indicator = ON']=df['Left Indicator = ON']/df['KmTravelled_sum_intra_city']\n",
    "    df['norm_Left Lane Departure Warning = ON']=df['Left Lane Departure Warning = ON']/df['KmTravelled_sum_intra_city']\n",
    "    df['norm_Left and Right Indicator = ON']=df['Left and Right Indicator = ON']/df['KmTravelled_sum_intra_city']\n",
    "    df['norm_Right Indicator = ON']=df['Right Indicator = ON']/df['KmTravelled_sum_intra_city']\n",
    "    df['norm_Right Lane Departure Warning = ON']=df['Right Lane Departure Warning = ON']/df['KmTravelled_sum_intra_city']\n",
    "    \n",
    "    return df\n",
    "\n",
    "df_total_aos_event_count=total_aos_event_count(df_motorway_aos)\n",
    "df_grp_aos_trip_detail=merge_aos_events_trip_detail(df_total_aos_event_count,df_motorway_grouped_trip_detail)\n",
    "df_grp_aos_trip_detail=normalizing_events_count(df_grp_aos_trip_detail)\n",
    "df_grp_aos_trip_detail['Motorway'] = city_name\n"
   ]
  },
  {
   "cell_type": "code",
   "execution_count": null,
   "id": "bed25b1f",
   "metadata": {},
   "outputs": [],
   "source": [
    "df_grp_aos_trip_detail"
   ]
  },
  {
   "cell_type": "code",
   "execution_count": null,
   "id": "306cf8dc",
   "metadata": {},
   "outputs": [],
   "source": [
    "df_grp_aos_trip_detail.drop(['Overspeeding_event_sum_intra_city','norm_overspeeding', ' Indicators = OFF', 'Brakes = OFF', 'Brakes = ON',\n",
    "       'Headway Warning (long)', 'Headway Warning (medium)',\n",
    "       'Headway Warning (short)', 'Headway Warning = OFF',\n",
    "       'Lane Departure Warning = OFF', 'Left Indicator = ON',\n",
    "       'Left Lane Departure Warning = ON', 'Left and Right Indicator = ON',\n",
    "       'Right Indicator = ON', 'Right Lane Departure Warning = ON',\n",
    "       'norm_Indicators = OFF', 'norm_brakes = OFF','norm_Headway Warning = OFF',\n",
    "       'norm_Lane Departure Warning = OFF', 'norm_Left Indicator = ON','norm_Right Indicator = ON','norm_Left and Right Indicator = ON'], axis = 1, inplace = True) \n"
   ]
  },
  {
   "cell_type": "code",
   "execution_count": null,
   "id": "8fe03aed",
   "metadata": {},
   "outputs": [],
   "source": [
    "df_grp_aos_trip_detail.rename(columns={'Point_speed_mean_intra_city': 'Mean Point Speed (km/h)',\n",
    "                   'KmTravelled_sum_intra_city':'Distance Covered (km)',\n",
    "                   'norm_brakes = ON':'Normalized Braking Events',\n",
    "                   'norm_headway_warning(long)': 'Normalized Level I-HW',\n",
    "                   'norm_headway_warning(medium)': 'Normalized Level II-HW',\n",
    "                   'norm_headway_warning(short)': 'Normalized Level III-HW',\n",
    "                   'norm_Right Lane Departure Warning = ON': 'Normalized R-LDW',\n",
    "                   'norm_Left Lane Departure Warning = ON': 'Normalized L-LDW'},\n",
    "          inplace=True, errors='raise')"
   ]
  },
  {
   "cell_type": "code",
   "execution_count": null,
   "id": "d26592b5",
   "metadata": {},
   "outputs": [],
   "source": [
    "df_grp_aos_trip_detail.to_csv(r\"D:\\AOS FOT\\Octo\\CSV Export\\Individual Clustering Motorway\\df_grp_aos_trip_detail_complete_utrecht_leek_highway.csv\")"
   ]
  },
  {
   "cell_type": "code",
   "execution_count": null,
   "id": "fc9b7111",
   "metadata": {},
   "outputs": [],
   "source": []
  },
  {
   "cell_type": "code",
   "execution_count": null,
   "id": "11f25e49",
   "metadata": {},
   "outputs": [],
   "source": [
    "list_df_grp_aos_trip_detail=list(df_grp_aos_trip_detail['Numberplate'])\n",
    "len(list_df_grp_aos_trip_detail)"
   ]
  },
  {
   "cell_type": "code",
   "execution_count": null,
   "id": "bde28571",
   "metadata": {},
   "outputs": [],
   "source": [
    "df_complete_td=pd.read_pickle(r\"D:\\AOS FOT\\Octo\\pickle_files\\utrecht_eindhoven\\df_complete_td_within_netherlands_motorways_utrecht_eindhoven.pkl\")"
   ]
  },
  {
   "cell_type": "code",
   "execution_count": null,
   "id": "8838c46a",
   "metadata": {},
   "outputs": [],
   "source": [
    "df = df_complete_td[df_complete_td['Numberplate'].isin(list_df_grp_aos_trip_detail)] # Extract complete df\n",
    "df"
   ]
  },
  {
   "cell_type": "code",
   "execution_count": null,
   "id": "ae7f4a82",
   "metadata": {},
   "outputs": [],
   "source": [
    "df.to_csv(r\"D:\\AOS FOT\\Octo\\pickle_files\\utrecht_eindhoven\\df_complete_td_within_netherlands_motorways_utrecht_eindhoven_updated.csv\")"
   ]
  },
  {
   "cell_type": "code",
   "execution_count": null,
   "id": "865d5e1a",
   "metadata": {},
   "outputs": [],
   "source": [
    "df_complete_aos=pd.read_pickle(r\"D:\\AOS FOT\\Octo\\pickle_files\\utrecht_eindhoven\\df_complete_aos_within_netherlands_motorways_utrecht_eindhoven.pkl\")"
   ]
  },
  {
   "cell_type": "code",
   "execution_count": null,
   "id": "e4f34d9c",
   "metadata": {},
   "outputs": [],
   "source": [
    "df = df_complete_aos[df_complete_aos['Numberplate'].isin(list_df_grp_aos_trip_detail)] # Extract complete df\n",
    "df"
   ]
  },
  {
   "cell_type": "code",
   "execution_count": null,
   "id": "62b96394",
   "metadata": {},
   "outputs": [],
   "source": [
    "pd.read_csv(r\"D:\\AOS FOT\\Octo\\pickle_files\\utrecht_eindhoven\\df_complete_aos_within_netherlands_motorways_utrecht_eindhoven_updated.csv\")"
   ]
  },
  {
   "cell_type": "code",
   "execution_count": null,
   "id": "d94bb36f",
   "metadata": {},
   "outputs": [],
   "source": [
    "df_grp_aos_trip_detail.to_csv(r\"D:\\AOS FOT\\Octo\\CSV Export\\Individual Clustering Motorway\\df_grp_aos_trip_detail_utrecht_eindhoven_highway.csv\")"
   ]
  },
  {
   "cell_type": "code",
   "execution_count": null,
   "id": "bce3df77",
   "metadata": {},
   "outputs": [],
   "source": [
    "# # os.environ[\"RAY_DISABLE_MEMORY_MONITOR\"] = \"1\" \n",
    "# import ray\n",
    "# ray.init()\n",
    "\n",
    "## Build pipelines with Pandas \n",
    "\n",
    "df_AOS_SUMMARY = (load_data(r\"D:\\AOS FOT\\Octo\\CSV Export\\Individual Clustering Motorway\\Utrecht\",\"df_complete_aos_within_netherlands_motorways_utrecht_leek\")\n",
    "                                      .pipe(drop_first_row)\n",
    "                                      .pipe(resetIndex)\n",
    "#                                       .pipe(cast_to_correct_dtype)\n",
    "#                                       .pipe(cast_date_time)\n",
    "#                                       .pipe(date_and_time_columns)\n",
    "                                      .pipe(rename_some_stuff))\n",
    "df_AOS_SUMMARY.head()\n"
   ]
  },
  {
   "cell_type": "code",
   "execution_count": null,
   "id": "61b333f7",
   "metadata": {},
   "outputs": [],
   "source": [
    "df_AOS_SUMMARY.to_csv(r\"D:\\AOS FOT\\Octo\\CSV Export\\Individual Clustering Motorway\\Utrecht\\df_complete_aos_within_netherlands_motorways_utrecht_leek.csv\")"
   ]
  },
  {
   "cell_type": "markdown",
   "id": "a6343feb",
   "metadata": {},
   "source": [
    "### Clustering"
   ]
  },
  {
   "cell_type": "code",
   "execution_count": null,
   "id": "1a86feff",
   "metadata": {},
   "outputs": [],
   "source": [
    "%%capture\n",
    "import pandas as pd\n",
    "# import modin.pandas as pd\n",
    "import numpy as np\n",
    "\n",
    "import math\n",
    "import seaborn as sns\n",
    "import matplotlib.pyplot as plt\n",
    "# import vaex # https://vaex.io/docs/index.html\n",
    "import pathlib\n",
    "from pathlib import *\n",
    "import os\n",
    "import pickle\n",
    "# import cufflinks as cf\n",
    "# import chart_studio.plotly as py\n",
    "import seaborn as sns\n",
    "import plotly.express as px\n",
    "%matplotlib inline\n",
    "from plotly.offline import download_plotlyjs, init_notebook_mode,plot,iplot\n",
    "\n",
    "init_notebook_mode(connected=True)\n",
    "import dask.dataframe as dd\n",
    "from dask.diagnostics import ProgressBar\n",
    "import pandas as pd\n",
    "import numpy as np\n",
    "import datetime as dt\n",
    "import seaborn as sns\n",
    "import matplotlib.pyplot as plt\n",
    "from sklearn.preprocessing import StandardScaler\n",
    "from sklearn.cluster import KMeans\n",
    "from kneed import KneeLocator\n",
    "from sklearn.metrics import silhouette_samples, silhouette_score"
   ]
  },
  {
   "cell_type": "code",
   "execution_count": null,
   "id": "4356f4a4",
   "metadata": {},
   "outputs": [],
   "source": [
    "df_grp_aos_trip_detail_amsterdam=pd.read_csv(r\"D:\\AOS FOT\\Octo\\CSV Export\\Individual Clustering Motorway\\df_grp_aos_trip_detail_utrecht_eindhoven_highway.csv\")\n",
    "df_grp_aos_trip_detail_complete_amsterdam=pd.read_csv(r\"D:\\AOS FOT\\Octo\\CSV Export\\Individual Clustering Motorway\\df_grp_aos_trip_detail_complete_utrecht_eindhoven_highway.csv\")\n",
    "# city_name='Amsterdam'\n",
    "# location=\"Amsterdam\"\n",
    "# location1=\"across the NL\""
   ]
  },
  {
   "cell_type": "code",
   "execution_count": null,
   "id": "73a89dcf",
   "metadata": {},
   "outputs": [],
   "source": [
    "df_grp_aos_trip_detail_zwolle=pd.read_csv(r\"D:\\AOS FOT\\Octo\\CSV Export\\Individual Clustering Motorway\\df_grp_aos_trip_detail_utrecht_leek_highway.csv\")\n",
    "df_grp_aos_trip_detail_complete_zwolle=pd.read_csv(r\"D:\\AOS FOT\\Octo\\CSV Export\\Individual Clustering Motorway\\df_grp_aos_trip_detail_complete_utrecht_leek_highway.csv\")"
   ]
  },
  {
   "cell_type": "code",
   "execution_count": null,
   "id": "7eea2f03",
   "metadata": {},
   "outputs": [],
   "source": [
    "df_grouped_cities=pd.concat([df_grp_aos_trip_detail_zwolle, df_grp_aos_trip_detail_complete_zwolle])\n",
    "df_grouped_cities = df_grouped_cities.drop(df_grouped_cities[df_grouped_cities['Normalized Braking Events']>4].index)\n",
    "df_grouped_cities = df_grouped_cities.drop(df_grouped_cities[df_grouped_cities['Normalized Level I-HW']>3].index)\n",
    "\n",
    "\n"
   ]
  },
  {
   "cell_type": "code",
   "execution_count": null,
   "id": "eb3a0350",
   "metadata": {},
   "outputs": [],
   "source": [
    "fig, axes = plt.subplots(3, 3, figsize=(20, 10))\n",
    "# sns.set_context(\"notebook\")\n",
    "fig.suptitle('Distribution of Fetaures - Utrecht to Leek Highway and Corresponding Trips (Motorway)',fontsize=16)\n",
    "# sns.set_context(\"notebook\", font_scale=1.25)\n",
    "sns.kdeplot(ax=axes[0,0],data=df_grouped_cities,x=\"Mean Point Speed (km/h)\",hue=\"Motorway\",palette=\"Set2\",linewidth=2.5)\n",
    "axes[0,0].set_xlabel('Density',fontsize=11, fontdict=dict(weight='bold'))\n",
    "axes[0,0].set_xlabel('Mean Point Speed (km/h)',fontsize=11,fontdict=dict(weight='bold'))\n",
    "\n",
    "sns.kdeplot(ax=axes[0, 1], data=df_grouped_cities, x=\"Normalized Braking Events\",linewidth=2.5,hue=\"Motorway\",palette=\"Set2\")\n",
    "axes[0,1].set_ylabel('Density',fontsize=11, fontdict=dict(weight='bold'))\n",
    "axes[0,1].set_xlabel('Normalized Braking Events',fontsize=11,fontdict=dict(weight='bold'))\n",
    "\n",
    "sns.kdeplot(ax=axes[0, 2], data=df_grouped_cities, x='Normalized Level I-HW',linewidth=2.5,hue=\"Motorway\",palette=\"Set2\")\n",
    "axes[0,2].set_ylabel('Density',fontsize=11, fontdict=dict(weight='bold'))\n",
    "axes[0,2].set_xlabel('Normalized Level I-HW',fontsize=11,fontdict=dict(weight='bold'))\n",
    "\n",
    "sns.kdeplot(ax=axes[1, 0], data=df_grouped_cities, x='Normalized Level II-HW',linewidth=2.5,hue=\"Motorway\",palette=\"Set2\")\n",
    "axes[1,0].set_ylabel('Density',fontsize=11, fontdict=dict(weight='bold'))\n",
    "axes[1,0].set_xlabel('Normalized Level II-HW',fontsize=11,fontdict=dict(weight='bold'))\n",
    "\n",
    "sns.kdeplot(ax=axes[1, 1], data=df_grouped_cities, x='Normalized Level III-HW',linewidth=2.5,hue=\"Motorway\",palette=\"Set2\")\n",
    "axes[1,1].set_ylabel('Density',fontsize=11, fontdict=dict(weight='bold'))\n",
    "axes[1,1].set_xlabel('Normalized Level III-HW',fontsize=11,fontdict=dict(weight='bold'))\n",
    "\n",
    "sns.kdeplot(ax=axes[1,2], data=df_grouped_cities, x='Normalized R-LDW',linewidth=2.5,hue=\"Motorway\",palette=\"Set2\")\n",
    "axes[1,2].set_ylabel('Density',fontsize=11, fontdict=dict(weight='bold'))\n",
    "axes[1,2].set_xlabel('Normalized R-LDW',fontsize=11,fontdict=dict(weight='bold'))\n",
    "\n",
    "sns.kdeplot(ax=axes[2,1], data=df_grouped_cities, x='Normalized L-LDW',linewidth=2.5,hue=\"Motorway\",palette=\"Set2\")\n",
    "axes[2,1].set_ylabel('Density',fontsize=11, fontdict=dict(weight='bold'))\n",
    "axes[2,1].set_xlabel('Normalized L-LDW',fontsize=11,fontdict=dict(weight='bold'))\n",
    "plt.subplots_adjust(wspace = 0.3, hspace = 0.3) #make the figure look better\n",
    "plt.savefig(r\"C:\\Users\\ivasu\\Desktop\\figure.png\")\n"
   ]
  },
  {
   "cell_type": "code",
   "execution_count": null,
   "id": "c8fa667a",
   "metadata": {},
   "outputs": [],
   "source": [
    "# fig, axes = plt.subplots(3, 3, figsize=(20, 10))\n",
    "# # sns.set_context(\"notebook\")\n",
    "# sns.set_palette(\"pastel\")\n",
    "# fig.suptitle('Distribution of Fetaures - Utrecht-Eindhoven Highway and Corresponding Trips (Motorway)',fontsize=16)\n",
    "# # sns.set_context(\"notebook\", font_scale=1.25)\n",
    "# sns.kdeplot(ax=axes[0,0],data=df_grp_aos_trip_detail_zwolle,x=\"Mean Point Speed (km/h)\",linewidth=2.5,label=\"Utrecht to Leek (M1)\")\n",
    "# sns.kdeplot(ax=axes[0,0],data=df_grp_aos_trip_detail_amsterdam,x=\"Mean Point Speed (km/h)\",linewidth=2.5,label=\"Utrecht to Eindhoven (M2)\")\n",
    "# axes[0,0].set_xlabel('Density',fontsize=11, fontdict=dict(weight='bold'))\n",
    "# axes[0,0].set_xlabel('Mean Point Speed (km/h)',fontsize=11,fontdict=dict(weight='bold'))\n",
    "# axes[0,0].legend(loc=\"upper left\")\n",
    "\n",
    "\n",
    "# sns.kdeplot(ax=axes[0,1],data=df_grp_aos_trip_detail_zwolle,x=\"Normalized Braking Events\",linewidth=2.5,label=\"Utrecht to Leek (M1)\")\n",
    "# sns.kdeplot(ax=axes[0,1],data=df_grp_aos_trip_detail_amsterdam,x=\"Normalized Braking Events\",linewidth=2.5,label=\"Utrecht to Eindhoven (M2)\")\n",
    "# axes[0,1].set_xlabel('Density',fontsize=11, fontdict=dict(weight='bold'))\n",
    "# axes[0,1].set_xlabel('Normalized Braking Events',fontsize=11,fontdict=dict(weight='bold'))\n",
    "# axes[0,1].legend(loc=\"upper left\")\n",
    "\n",
    "\n",
    "\n",
    "\n",
    "\n",
    "# # sns.kdeplot(ax=axes[0, 1], data=df_grouped_cities, x=\"Normalized Braking Events\",linewidth=2.5,hue=\"Motorway\",palette=\"pastel\")\n",
    "# # axes[0,1].set_ylabel('Density',fontsize=11, fontdict=dict(weight='bold'))\n",
    "# # axes[0,1].set_xlabel('Normalized Braking Events',fontsize=11,fontdict=dict(weight='bold'))\n",
    "\n",
    "# # sns.kdeplot(ax=axes[0, 2], data=df_grouped_cities, x='Normalized Level I-HW',linewidth=2.5,hue=\"Motorway\",palette=\"pastel\")\n",
    "# # axes[0,2].set_ylabel('Density',fontsize=11, fontdict=dict(weight='bold'))\n",
    "# # axes[0,2].set_xlabel('Normalized Level I-HW',fontsize=11,fontdict=dict(weight='bold'))\n",
    "\n",
    "# # sns.kdeplot(ax=axes[1, 0], data=df_grouped_cities, x='Normalized Level II-HW',linewidth=2.5,hue=\"Motorway\",palette=\"pastel\")\n",
    "# # axes[1,0].set_ylabel('Density',fontsize=11, fontdict=dict(weight='bold'))\n",
    "# # axes[1,0].set_xlabel('Normalized Level II-HW',fontsize=11,fontdict=dict(weight='bold'))\n",
    "\n",
    "# # sns.kdeplot(ax=axes[1, 1], data=df_grouped_cities, x='Normalized Level III-HW',linewidth=2.5,hue=\"Motorway\",palette=\"pastel\")\n",
    "# # axes[1,1].set_ylabel('Density',fontsize=11, fontdict=dict(weight='bold'))\n",
    "# # axes[1,1].set_xlabel('Normalized Level III-HW',fontsize=11,fontdict=dict(weight='bold'))\n",
    "\n",
    "# # sns.kdeplot(ax=axes[1,2], data=df_grouped_cities, x='Normalized R-LDW',linewidth=2.5,hue=\"Motorway\",palette=\"pastel\")\n",
    "# # axes[1,2].set_ylabel('Density',fontsize=11, fontdict=dict(weight='bold'))\n",
    "# # axes[1,2].set_xlabel('Normalized R-LDW',fontsize=11,fontdict=dict(weight='bold'))\n",
    "\n",
    "# # sns.kdeplot(ax=axes[2,1], data=df_grouped_cities, x='Normalized L-LDW',linewidth=2.5,hue=\"Motorway\",palette=\"pastel\")\n",
    "# # axes[2,1].set_ylabel('Density',fontsize=11, fontdict=dict(weight='bold'))\n",
    "# # axes[2,1].set_xlabel('Normalized L-LDW',fontsize=11,fontdict=dict(weight='bold'))\n",
    "# # plt.subplots_adjust(wspace = 0.3, hspace = 0.3) #make the figure look better"
   ]
  },
  {
   "cell_type": "code",
   "execution_count": null,
   "id": "fe0c2b96",
   "metadata": {},
   "outputs": [],
   "source": [
    "df_grouped_cities.columns"
   ]
  },
  {
   "cell_type": "code",
   "execution_count": null,
   "id": "cc7d0df8",
   "metadata": {},
   "outputs": [],
   "source": [
    "feature=\"Normalized Braking Events\"\n",
    "city_name=\"Utrecht to Leek\"\n"
   ]
  },
  {
   "cell_type": "code",
   "execution_count": null,
   "id": "67f80031",
   "metadata": {},
   "outputs": [],
   "source": [
    "def preprocess(df,feature):\n",
    "    \"\"\"Preprocess data for KMeans clustering\"\"\"\n",
    "    \n",
    "    data = np.array(df[feature])\n",
    "    data=data.reshape(-1, 1)\n",
    "    scaler = StandardScaler()\n",
    "    scaler.fit(data)\n",
    "    data = scaler.transform(data)\n",
    "    \n",
    "    return data"
   ]
  },
  {
   "cell_type": "code",
   "execution_count": null,
   "id": "62cc9071",
   "metadata": {},
   "outputs": [],
   "source": [
    "\n",
    "def elbow_plot(data):\n",
    "    \"\"\"Create elbow plot from normalized data\"\"\"\n",
    "    \n",
    "    sse = {}\n",
    "    \n",
    "    for k in range(2,11):\n",
    "        kmeans = KMeans(n_clusters=k, random_state=1)\n",
    "        kmeans.fit(data)\n",
    "        sse[k] = kmeans.inertia_\n",
    "    \n",
    "    plt.title('Elbow plot for K selection'+\"\\n\"+feature+\" : \"+ city_name)\n",
    "    plt.xlabel('k')\n",
    "    plt.ylabel('SSE')\n",
    "    sns.pointplot(x=list(sse.keys()),y=list(sse.values()),color=\"mediumseagreen\")\n",
    "    plt.show()\n",
    "\n",
    "data = preprocess(df_grouped_cities,feature)\n",
    "elbow_plot(data)"
   ]
  },
  {
   "cell_type": "code",
   "execution_count": null,
   "id": "279cc3b1",
   "metadata": {},
   "outputs": [],
   "source": [
    "# data = preprocess(df_grp_aos_trip_detail,\"Point_speed_mean_intra_city\")\n",
    "\n",
    "def silhouette_coeff(data):\n",
    "    \"\"\"Checking silhouette score\"\"\"\n",
    "    \n",
    "    range_n_clusters = range(2,10)\n",
    "    \n",
    "    for n_clusters in range_n_clusters:\n",
    "        clusterer = KMeans(n_clusters=n_clusters)\n",
    "        preds = clusterer.fit_predict(data)\n",
    "        centers = clusterer.cluster_centers_\n",
    "\n",
    "        score = silhouette_score(data, preds)\n",
    "        print(\"For n_clusters = {}, silhouette score is {})\".format(n_clusters, score))\n",
    "    \n",
    "silhouette_coeff(data)"
   ]
  },
  {
   "cell_type": "code",
   "execution_count": null,
   "id": "548b709a",
   "metadata": {},
   "outputs": [],
   "source": [
    "# data = preprocess(df_grp_aos_trip_detail,\"Point_speed_mean_intra_city\")\n",
    "\n",
    "def find_k(data,feature,increment=0, decrement=0):\n",
    "    \"\"\"Find the optimum k clusters\"\"\"\n",
    "    \n",
    "    data = preprocess(data,feature)\n",
    "    sse = {}\n",
    "    \n",
    "    for k in range(2, 21):\n",
    "        kmeans = KMeans(n_clusters=k, random_state=1)\n",
    "        kmeans.fit(data)\n",
    "        sse[k] = kmeans.inertia_\n",
    "    \n",
    "    kn = KneeLocator(x=list(sse.keys()), \n",
    "                 y=list(sse.values()), \n",
    "                 curve='convex', \n",
    "                 direction='decreasing')\n",
    "    k = kn.knee + increment - decrement\n",
    "    return k"
   ]
  },
  {
   "cell_type": "code",
   "execution_count": null,
   "id": "86d5be28",
   "metadata": {},
   "outputs": [],
   "source": [
    "def run_kmeans(df,feature, increment=0, decrement=0):\n",
    "    \"\"\"Run KMeans clustering, including the preprocessing of the data\n",
    "    and the automatic selection of the optimum k. \n",
    "    \"\"\"\n",
    "    \n",
    "    data = preprocess(df,feature)\n",
    "    k = find_k(df,feature, increment, decrement)\n",
    "    print(k)\n",
    "    kmeans = KMeans(n_clusters=k,init='k-means++')\n",
    "    kmeans.fit(data)\n",
    "    return df.assign(Clusters=kmeans.labels_)"
   ]
  },
  {
   "cell_type": "code",
   "execution_count": null,
   "id": "1be40d8f",
   "metadata": {},
   "outputs": [],
   "source": [
    "# feature=\"norm_headway_warning(short)\"\n",
    "Clusters= run_kmeans(df_grouped_cities,feature, decrement=2)\n",
    "Clusters"
   ]
  },
  {
   "cell_type": "code",
   "execution_count": null,
   "id": "48dd4d72",
   "metadata": {},
   "outputs": [],
   "source": [
    "sns.set_palette(\"CMRmap\")\n",
    "sns.kdeplot(Clusters[Clusters['Clusters']==0][feature],label=\"0\",fill=True,alpha=0.5,linewidth=2)\n",
    "sns.kdeplot(Clusters[Clusters['Clusters']==1][feature],label=\"1\",fill=True,alpha=0.5,linewidth=2)\n",
    "sns.kdeplot(Clusters[Clusters['Clusters']==2][feature],label=\"2\",fill=True,alpha=0.5,linewidth=2)\n",
    "sns.kdeplot(Clusters[Clusters['Clusters']==3][feature],label=\"3\",fill=True,alpha=0.5,linewidth=2)\n",
    "sns.kdeplot(Clusters[Clusters['Clusters']==4][feature],label=\"4\",fill=True,alpha=0.5,linewidth=2)\n",
    "# sns.kdeplot(Clusters[Clusters['Clusters']==4]['Point_speed'],label=\"4\",fill=True,alpha=0.5,linewidth=2)\n",
    "plt.legend(title=\"Cluster\")\n",
    "plt.title(\"Distribution of \"+feature +\" on\" + \"\\n\" + city_name +\" Highway and corresponding\"+\"\\n\"+\"trips across the NL (Motorway) - Clusters\")\n",
    "plt.xlabel(feature)\n"
   ]
  },
  {
   "cell_type": "code",
   "execution_count": null,
   "id": "1f01fd84",
   "metadata": {},
   "outputs": [],
   "source": [
    "Clusters['Motorway'].unique()"
   ]
  },
  {
   "cell_type": "code",
   "execution_count": null,
   "id": "701f782b",
   "metadata": {},
   "outputs": [],
   "source": [
    "highway_name='Utrecht to Leek (M1)'\n",
    "corresponding_trips='Corresponding Trips (M1-NL)'\n",
    "\n",
    "df_city=Clusters.loc[Clusters['Motorway']==highway_name]\n",
    "df_city = df_city.drop(df_city[df_city.Numberplate=='WPR23X'].index)\n",
    "df_not_city=Clusters.loc[Clusters['Motorway']==corresponding_trips]"
   ]
  },
  {
   "cell_type": "code",
   "execution_count": null,
   "id": "b2ace837",
   "metadata": {},
   "outputs": [],
   "source": [
    "sns.set_palette(\"CMRmap\")\n",
    "sns.kdeplot(df_city[df_city['Clusters']==0][feature],label=\"0\",fill=True,alpha=0.5,linewidth=2)\n",
    "sns.kdeplot(df_city[df_city['Clusters']==1][feature],label=\"1\",fill=True,alpha=0.5,linewidth=2)\n",
    "sns.kdeplot(df_city[df_city['Clusters']==2][feature],label=\"2\",fill=True,alpha=0.5,linewidth=2)\n",
    "sns.kdeplot(df_city[df_city['Clusters']==3][feature],label=\"3\",fill=True,alpha=0.5,linewidth=2)\n",
    "sns.kdeplot(df_city[df_city['Clusters']==4][feature],label=\"4\",fill=True,alpha=0.5,linewidth=2)\n",
    "plt.legend(title=\"Cluster\")\n",
    "plt.title(r\"Distribution of Mean Point Speed on \"+\"\\n\"+city_name+\" Highway\")\n",
    "plt.xlabel(\"Mean Point Speed (km/h)\")"
   ]
  },
  {
   "cell_type": "code",
   "execution_count": null,
   "id": "003e2548",
   "metadata": {},
   "outputs": [],
   "source": [
    "sns.set_palette(\"CMRmap\")\n",
    "sns.kdeplot(df_not_city[df_not_city['Clusters']==0][feature],label=\"0\",fill=True,alpha=0.5,linewidth=2)\n",
    "sns.kdeplot(df_not_city[df_not_city['Clusters']==1][feature],label=\"1\",fill=True,alpha=0.5,linewidth=2)\n",
    "sns.kdeplot(df_not_city[df_not_city['Clusters']==2][feature],label=\"2\",fill=True,alpha=0.5,linewidth=2)\n",
    "sns.kdeplot(df_not_city[df_not_city['Clusters']==3][feature],label=\"3\",fill=True,alpha=0.5,linewidth=2)\n",
    "sns.kdeplot(df_not_city[df_not_city['Clusters']==4][feature],label=\"4\",fill=True,alpha=0.5,linewidth=2)\n",
    "plt.legend(title=\"Cluster\")\n",
    "plt.title(r\"Distribution of Mean Point Speed of\"+\"\\n\"+\"correponding Numberplates across the NL \")\n",
    "plt.xlabel(\"Mean Point Speed (km/h)\")"
   ]
  },
  {
   "cell_type": "code",
   "execution_count": null,
   "id": "d9192770",
   "metadata": {},
   "outputs": [],
   "source": [
    "df_outer = pd.merge(df_city, df_not_city, on='Numberplate', how='inner') #here Numberplate is common column\n",
    "df_outer"
   ]
  },
  {
   "cell_type": "code",
   "execution_count": null,
   "id": "2292c9a9",
   "metadata": {},
   "outputs": [],
   "source": [
    "import matplotlib as mpl\n",
    "ax = sns.boxplot(x=df_city['Clusters'],y=df_city[feature],fliersize=5)\n",
    "for patch in ax.artists:\n",
    "    fc = patch.get_facecolor()\n",
    "    patch.set_facecolor(mpl.colors.to_rgba(fc, 0.7))\n",
    "    \n",
    "    \n",
    "\n",
    "plt.title(feature+\"-\"+city_name)\n",
    "plt.ylabel(feature)\n",
    "\n",
    "# plt.ylabel(\"Mean Point Speed in Amsterdam (km/h)\")\n",
    "plt.xlabel(\"Cluster\")\n",
    "\n",
    "# plt.title(r\"Mean Point Speed of Number plates\"+\"\\n\"+r\"based on assigned cluster\")"
   ]
  },
  {
   "cell_type": "code",
   "execution_count": null,
   "id": "31909c1e",
   "metadata": {},
   "outputs": [],
   "source": [
    "df_city_cluster0=df_city[df_city['Clusters']==0]\n",
    "df_city_cluster0_nums=list(df_city_cluster0['Numberplate'])\n",
    "\n",
    "df_city_cluster1=df_city[df_city['Clusters']==1]\n",
    "df_city_cluster1_nums=list(df_city_cluster1['Numberplate'])\n",
    "\n",
    "df_city_cluster2=df_city[df_city['Clusters']==2]\n",
    "df_city_cluster2_nums=list(df_city_cluster2['Numberplate'])\n",
    "\n",
    "df_city_cluster3=df_city[df_city['Clusters']==3]\n",
    "df_city_cluster3_nums=list(df_city_cluster3['Numberplate'])\n",
    "\n",
    "df_city_cluster4=df_city[df_city['Clusters']==4]\n",
    "df_city_cluster4_nums=list(df_city_cluster4['Numberplate'])\n",
    "\n",
    "df_city_cluster5=df_city[df_city['Clusters']==5]\n",
    "df_city_cluster5_nums=list(df_city_cluster5['Numberplate'])"
   ]
  },
  {
   "cell_type": "code",
   "execution_count": null,
   "id": "e2299517",
   "metadata": {},
   "outputs": [],
   "source": [
    "df_not_city_cluster0_nums = df_not_city[df_not_city['Numberplate'].isin(df_city_cluster0_nums)]\n",
    "df_not_city_cluster0_nums['Cluster_city']=0\n",
    "df_not_city_cluster1_nums = df_not_city[df_not_city['Numberplate'].isin(df_city_cluster1_nums)]\n",
    "df_not_city_cluster1_nums['Cluster_city']=1\n",
    "df_not_city_cluster2_nums = df_not_city[df_not_city['Numberplate'].isin(df_city_cluster2_nums)]\n",
    "df_not_city_cluster2_nums['Cluster_city']=2\n",
    "df_not_city_cluster3_nums = df_not_city[df_not_city['Numberplate'].isin(df_city_cluster3_nums)]\n",
    "df_not_city_cluster3_nums['Cluster_city']=3\n",
    "\n",
    "df_not_city_cluster4_nums = df_not_city[df_not_city['Numberplate'].isin(df_city_cluster4_nums)]\n",
    "df_not_city_cluster4_nums['Cluster_city']=4"
   ]
  },
  {
   "cell_type": "code",
   "execution_count": null,
   "metadata": {},
   "outputs": [],
   "source": [
    "list_of_dataframes=[df_not_city_cluster0_nums,df_not_city_cluster1_nums,df_not_city_cluster2_nums,df_not_city_cluster3_nums]\n",
    "df_not_city_new_clus = pd.concat(list_of_dataframes)\n",
    "df_not_city_new_clus"
   ]
  },
  {
   "cell_type": "code",
   "execution_count": null,
   "id": "de19d1c3",
   "metadata": {},
   "outputs": [],
   "source": [
    "import matplotlib as mpl\n",
    "ax = sns.boxplot(x=df_not_city_new_clus['Cluster_city'],y=df_not_city_new_clus[feature],fliersize=5)\n",
    "for patch in ax.artists:\n",
    "    fc = patch.get_facecolor()\n",
    "    patch.set_facecolor(mpl.colors.to_rgba(fc, 0.7))\n",
    "    \n",
    "plt.ylabel(feature+\"across the NL\")\n",
    "plt.xlabel(\"Cluster\")\n",
    "plt.title(feature+\" of corresponding \"+\"\\n\"+r\"number plates based on assigned cluster\")\n"
   ]
  },
  {
   "cell_type": "code",
   "execution_count": null,
   "id": "93b75d35",
   "metadata": {},
   "outputs": [],
   "source": [
    "df_outer.columns"
   ]
  },
  {
   "cell_type": "code",
   "execution_count": null,
   "id": "083f7fc8",
   "metadata": {},
   "outputs": [],
   "source": [
    "# feature=\"Normalized R-LDW\""
   ]
  },
  {
   "cell_type": "code",
   "execution_count": null,
   "id": "1f5f9197",
   "metadata": {},
   "outputs": [],
   "source": [
    "feature_x=\"Mean Point Speed (km/h)\"\n",
    "location=\"_x\"\n",
    "location1=\"_y\""
   ]
  },
  {
   "cell_type": "code",
   "execution_count": null,
   "id": "6f68dd79",
   "metadata": {},
   "outputs": [],
   "source": [
    "df_outer['cluster_comp'] = np.where(df_outer['Clusters_x']==df_outer['Clusters_y'], 'True', 'False')"
   ]
  },
  {
   "cell_type": "code",
   "execution_count": null,
   "id": "fe3fe3e9",
   "metadata": {},
   "outputs": [],
   "source": [
    "a=df_outer[df_outer['cluster_comp']=='True']\n",
    "# a['clusters_utrecht'].value_counts()\n",
    "len(df_outer[df_outer['cluster_comp']=='True'])/len(df_outer)*100"
   ]
  },
  {
   "cell_type": "code",
   "execution_count": null,
   "id": "1daabef0",
   "metadata": {},
   "outputs": [],
   "source": [
    "df_outer_true=df_outer[df_outer['cluster_comp']==\"True\"]"
   ]
  },
  {
   "cell_type": "code",
   "execution_count": null,
   "metadata": {},
   "outputs": [],
   "source": [
    "df_outer_true['Clusters_y'].value_counts()/len(df_outer_true)*100"
   ]
  },
  {
   "cell_type": "code",
   "execution_count": null,
   "id": "b130c857",
   "metadata": {},
   "outputs": [],
   "source": [
    "df_outer[df_outer['Clusters_x']==1]['Normalized Braking Events_x'].max()"
   ]
  },
  {
   "cell_type": "code",
   "execution_count": null,
   "id": "f4ffeef7",
   "metadata": {},
   "outputs": [],
   "source": [
    "sns.set_palette(\"CMRmap\")\n",
    "sns.scatterplot(data=df_outer[df_outer['Clusters_x']==0],x=feature+location,y=feature+location1,alpha=0.8,label=0)\n",
    "sns.scatterplot(data=df_outer[df_outer['Clusters_x']==1],x=feature+location,y=feature+location1,alpha=0.8,label=1)\n",
    "sns.scatterplot(data=df_outer[df_outer['Clusters_x']==2],x=feature+location,y=feature+location1,alpha=0.8,label=2)\n",
    "sns.scatterplot(data=df_outer[df_outer['Clusters_x']==3],x=feature+location,y=feature+location1,alpha=0.8,label=3)\n",
    "plt.legend(title=\"Cluster\")\n",
    "plt.xlabel(feature+\"-\"+city_name)\n",
    "plt.ylabel(feature+\" across the Netherlands\")\n",
    "plt.title(feature+ \" of Numberplates \"+\"\\n\"+\"and their corresponding clusters\")"
   ]
  },
  {
   "cell_type": "code",
   "execution_count": null,
   "id": "ebe9a769",
   "metadata": {},
   "outputs": [],
   "source": [
    "sns.scatterplot(data=df_outer,x=feature+\"_x\",y=feature+\"_y\",hue=\"Clusters_x\",palette=\"CMRmap\")\n",
    "plt.legend(title=\"Cluster\")\n",
    "plt.xlabel(\"Mean Point Speed in Amsterdam\")\n",
    "plt.ylabel(\"Mean Point Speed in and around the Netherlands\")\n",
    "plt.title(r\"Mean Point Speed of Numberplates\"+\"\\n\"+r\"assigned same cluster on Urban roads\"+\"\\n\"+r\"Correlation Coefficient \"+ r\"$ (r)$ = 0.88\")"
   ]
  },
  {
   "cell_type": "code",
   "execution_count": null,
   "id": "fece0b7e",
   "metadata": {},
   "outputs": [],
   "source": [
    "h=sns.jointplot(x=feature+\"_x\", y=feature+\"_y\", data=df_outer, kind=\"reg\",palette=\"pastel\",color=\"mediumseagreen\")\n",
    "h.set_axis_labels(feature+' on Utrecht-Leek Highway (M1)', feature+ ' across the NL (M1-NL)', fontsize=10)\n",
    "# h.ax_joint.set_xticks([0,0.1,0.2,0.3,0.4,1.0,1.2,1.4,1.6,1.8])"
   ]
  },
  {
   "cell_type": "code",
   "execution_count": null,
   "id": "80cd312f",
   "metadata": {},
   "outputs": [],
   "source": [
    "#  import pandas as pd \n",
    "#  import seaborn as sns\n",
    "#  import matplotlib.pyplot as plt \n",
    "# import stats\n",
    "from scipy import stats\n",
    "# sns.set(rc = {'figure.figsize':(15,8)})\n",
    "# from matplotlib import rcParams\n",
    "\n",
    "# # figure size in inches\n",
    "# rcParams['figure.figsize'] = 15,8\n",
    "\n",
    "\n",
    "# feature_x=\"Mean Point Speed in \"\n",
    "# feature_y=\"Mean Point Speed \"\n",
    "# sns.set_style(\"ticks\")\n",
    "# df = pd.read_excel('data.xlsx')\n",
    "# assume some random columns called EAV and PAV in your DataFrame \n",
    "# assume a third variable used for grouping called \"Mammal\" which will be used for color coding\n",
    "p = sns.lmplot(x=feature+\"_x\", y=feature+\"_y\",\n",
    "        data=df_outer,scatter_kws={\"color\": \"mediumseagreen\"},\n",
    "        line_kws={'label':\"Linear Reg\",\"color\":\"mediumseagreen\"}, legend=True)\n",
    "\n",
    "ax = p.axes[0, 0]\n",
    "ax.legend()\n",
    "leg = ax.get_legend()\n",
    "L_labels = leg.get_texts()\n",
    "# ax.set(xlabel='Mean Point Speed on Utrecht-Eindhoven Highway', ylabel='Mean Point Speed across the NL')\n",
    "\n",
    "\n",
    "# assuming you computed r_squared which is the coefficient of determination somewhere else\n",
    "slope, intercept, r_value, p_value, std_err = stats.linregress(df_outer[feature+\"_x\"],df_outer[feature+\"_y\"])\n",
    "label_line_1 = r'$y={0:.1f}x+{1:.1f}'.format(slope,intercept)\n",
    "label_line_2 = r'$r:{0:.2f}$'.format(r_value) # as an exampple or whatever you want[!\n",
    "# L_labels[0].set_text(label_line_1)\n",
    "L_labels[0].set_text(label_line_2)\n",
    "\n",
    "# plt.title(\"Normalized Braking Events - Amsterdam & the NL (Urban Roads)\")"
   ]
  },
  {
   "cell_type": "code",
   "execution_count": null,
   "id": "fb6d0d80",
   "metadata": {},
   "outputs": [],
   "source": []
  }
 ],
 "metadata": {
  "kernelspec": {
   "display_name": "Python 3",
   "language": "python",
   "name": "python3"
  },
  "language_info": {
   "codemirror_mode": {
    "name": "ipython",
    "version": 3
   },
   "file_extension": ".py",
   "mimetype": "text/x-python",
   "name": "python",
   "nbconvert_exporter": "python",
   "pygments_lexer": "ipython3",
   "version": "3.8.15"
  },
  "vscode": {
   "interpreter": {
    "hash": "a2cfa282833ad131b813daadc2d579e64b9e3379708ebc6d12c1926855f4c941"
   }
  }
 },
 "nbformat": 4,
 "nbformat_minor": 5
}
